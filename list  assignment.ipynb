{
  "nbformat": 4,
  "nbformat_minor": 0,
  "metadata": {
    "colab": {
      "provenance": []
    },
    "kernelspec": {
      "name": "python3",
      "display_name": "Python 3"
    },
    "language_info": {
      "name": "python"
    }
  },
  "cells": [
    {
      "cell_type": "code",
      "source": [
        "#Q1 Take two integer numbers and return their product. If the product is greater than 1000, then return their sum if product is less than 1000 return product value only.\n",
        "#answer\n",
        "def product_or_sum(a, b):\n",
        "   product = a * b\n",
        "   if product > 1000:\n",
        "       return a+b\n",
        "   else:\n",
        "       return product\n",
        "x= product_or_sum(60,6)\n",
        "print(x)"
      ],
      "metadata": {
        "id": "uEQ2OVePGCpc",
        "colab": {
          "base_uri": "https://localhost:8080/"
        },
        "outputId": "28bfe2f0-15f9-42ad-e79b-0cfc8653eb98"
      },
      "execution_count": 5,
      "outputs": [
        {
          "output_type": "stream",
          "name": "stdout",
          "text": [
            "360\n"
          ]
        }
      ]
    },
    {
      "cell_type": "code",
      "source": [
        "#Q2"
      ],
      "metadata": {
        "id": "-4B065iiGTRe"
      },
      "execution_count": null,
      "outputs": []
    },
    {
      "cell_type": "markdown",
      "metadata": {
        "id": "wRGKZkM97Nu5"
      },
      "source": [
        "# Q2 `Given a range of the first 10 numbers, Iterate from the start number to the end number, and In each iteration print the sum of the current number and previous number`\n",
        "\n",
        "Expected output:\n",
        "-----------------\n",
        "    Printing current and previous number sum in a range(10)\n",
        "    Current Number 0 Previous Number  0  Sum:  0\n",
        "    Current Number 1 Previous Number  0  Sum:  1\n",
        "    Current Number 2 Previous Number  1  Sum:  3\n",
        "    Current Number 3 Previous Number  2  Sum:  5\n",
        "    Current Number 4 Previous Number  3  Sum:  7\n",
        "    Current Number 5 Previous Number  4  Sum:  9\n",
        "    Current Number 6 Previous Number  5  Sum:  11\n",
        "    Current Number 7 Previous Number  6  Sum:  13\n",
        "    Current Number 8 Previous Number  7  Sum:  15\n",
        "    Current Number 9 Previous Number  8  Sum:  17"
      ]
    },
    {
      "cell_type": "code",
      "source": [
        "#Answer\n",
        "previous_num = 0\n",
        "for i in range(10):\n",
        "    sum = previous_num + i\n",
        "    print(f'Current number {i} Previous Number {previous_num} sum :{sum}')\n",
        "    previous_num =i"
      ],
      "metadata": {
        "colab": {
          "base_uri": "https://localhost:8080/"
        },
        "id": "g4yF45AlGjRJ",
        "outputId": "2e13e77d-2aec-4d16-9a56-d75e9c97e8b3"
      },
      "execution_count": 29,
      "outputs": [
        {
          "output_type": "stream",
          "name": "stdout",
          "text": [
            "Current number 0 Previous Number 0 sum :0\n",
            "Current number 1 Previous Number 0 sum :1\n",
            "Current number 2 Previous Number 1 sum :3\n",
            "Current number 3 Previous Number 2 sum :5\n",
            "Current number 4 Previous Number 3 sum :7\n",
            "Current number 5 Previous Number 4 sum :9\n",
            "Current number 6 Previous Number 5 sum :11\n",
            "Current number 7 Previous Number 6 sum :13\n",
            "Current number 8 Previous Number 7 sum :15\n",
            "Current number 9 Previous Number 8 sum :17\n"
          ]
        }
      ]
    },
    {
      "cell_type": "code",
      "source": [
        "#Q3 Given a string and an integer number n, remove characters from a string starting from zero up to n and return a new string\n",
        "# Example : (\"pynative\", 4) so output must be tive.\n",
        "# Note: n must be less than the length of the string."
      ],
      "metadata": {
        "id": "oIQ51WoxZHTa"
      },
      "execution_count": null,
      "outputs": []
    },
    {
      "cell_type": "code",
      "source": [
        "str1 = 'pynative'\n",
        "n = 4\n",
        "print(\"old Str\", str1)\n",
        "x = str1.replace(str1[:4], '', 1)\n",
        "print(\"new Str\", x)"
      ],
      "metadata": {
        "colab": {
          "base_uri": "https://localhost:8080/"
        },
        "id": "_dVkyyN8VZw0",
        "outputId": "89b40431-2ca3-424d-b28c-96324a27e1b5"
      },
      "execution_count": 27,
      "outputs": [
        {
          "output_type": "stream",
          "name": "stdout",
          "text": [
            "old Str pynative\n",
            "new Str tive\n"
          ]
        }
      ]
    },
    {
      "cell_type": "code",
      "source": [
        "# Q4"
      ],
      "metadata": {
        "id": "ced8w0ATZwnh"
      },
      "execution_count": null,
      "outputs": []
    },
    {
      "cell_type": "markdown",
      "metadata": {
        "id": "HBesYwn47NvB"
      },
      "source": [
        "### `Given a list of numbers, return True if first and last number of a list is same`\n",
        "\n",
        "    Expected Output:\n",
        "    -------------------------------------\n",
        "\n",
        "    Given list is\n",
        "    a =  [10, 20, 30, 40, 10]\n",
        "    b = [10 , 20 , 30 , 40, 10 ]\n",
        "    result is True\n",
        "\n",
        "    Given list is  \n",
        "    a = [10, 20, 30, 40, 50]\n",
        "    b = [11 , 21 , 31 , 41 , 51 ]\n",
        "    result is False"
      ]
    },
    {
      "cell_type": "code",
      "source": [
        "# Answer\n",
        "a = [10, 20, 30, 40, 10]\n",
        "b = [10 , 20 , 30 , 40, 10 ]\n",
        "if a[0] == a[-1]:\n",
        "   print('Result is True')\n",
        "else:\n",
        "    print('Result is False')\n",
        "\n",
        "a= [10, 20, 30, 40, 50]\n",
        "b= [11 , 21 , 31 , 41 , 51 ]\n",
        "if a[0] == a[-1]:\n",
        "   print('Result is True')\n",
        "else:\n",
        "    print('Result is False')"
      ],
      "metadata": {
        "colab": {
          "base_uri": "https://localhost:8080/"
        },
        "id": "EBYHKgQ3XkqB",
        "outputId": "5f053256-5633-4e27-d01c-367bcf390449"
      },
      "execution_count": 56,
      "outputs": [
        {
          "output_type": "stream",
          "name": "stdout",
          "text": [
            "Result is True\n",
            "Result is False\n"
          ]
        }
      ]
    },
    {
      "cell_type": "code",
      "source": [
        "# Q5"
      ],
      "metadata": {
        "id": "OvHEJR6GaLn1"
      },
      "execution_count": null,
      "outputs": []
    },
    {
      "cell_type": "markdown",
      "metadata": {
        "id": "9I4lllwi7NvD"
      },
      "source": [
        "### Given a two Python list. Iterate both lists simultaneously such that list1 should display item in original order and list2 in reverse order\n",
        "\n",
        "    list1 = [10, 20, 30, 40]\n",
        "    list2 = [100, 200, 300, 400]\n",
        "\n",
        "\n",
        "    Expected output:\n",
        "    -----------------------------\n",
        "    10 400\n",
        "    20 300\n",
        "    30 200\n",
        "    40 100"
      ]
    },
    {
      "cell_type": "code",
      "source": [
        "pass"
      ],
      "metadata": {
        "id": "9xD0Zo2bB3NU"
      },
      "execution_count": 52,
      "outputs": []
    },
    {
      "cell_type": "code",
      "source": [
        "# Q6"
      ],
      "metadata": {
        "id": "4YicjTATf5xI"
      },
      "execution_count": null,
      "outputs": []
    },
    {
      "cell_type": "markdown",
      "metadata": {
        "id": "UhQ8oEsc7NvE"
      },
      "source": [
        "### Remove empty strings from the list of strings\n",
        "\n",
        "\n",
        "    list1 = [\"Mike\", \"\", \"Emma\", \"Kelly\", \"\", \"Brad\"]\n",
        "\n",
        "    Expected output:\n",
        "    ----------------------\n",
        "\n",
        "    [\"Mike\", \"Emma\", \"Kelly\", \"Brad\"]\n"
      ]
    },
    {
      "cell_type": "code",
      "source": [
        "pass"
      ],
      "metadata": {
        "id": "Exd89dEzz-LC"
      },
      "execution_count": 53,
      "outputs": []
    }
  ]
}